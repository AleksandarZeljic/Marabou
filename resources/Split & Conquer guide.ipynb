{
 "cells": [
  {
   "cell_type": "markdown",
   "id": "contained-romance",
   "metadata": {},
   "source": [
    "# Marabou's Split & Conquer Guide\n",
    "\n",
    "This Notebook illustrates properties of the Split & Conquer (S&C) algorithm in Marabou, provides an overview of algorithm parameters, shows their impact on algorithm performance and offers some rules of thumb on how to choose parameter values for problems of unknown difficulty."
   ]
  },
  {
   "cell_type": "markdown",
   "id": "interstate-trustee",
   "metadata": {},
   "source": [
    "## About Split & Conquer algorithm\n",
    "The algorithm is build on top of Marabou solver for neural network verification(NNV). Scalability is one of the chief hurdles for NNV. S&C algorithm is an effort-based algorithm, which dynamically decomposes queries which exceed the effort limit. \n",
    "\n",
    "Effort is inpractice specified in the form of timeout - initially *t_0*. Whenever a query exceeds its timeout, the S&C algorithm will split it into a number of new queries. The number of splits *n* is another parameter of the algorithm, and will result in *2^n* new queries created. This new generation of queries will be solved with an increased timeout, which is specified through the timeout factor *f*. Each of the queries will in turn be solved with the new timout and this process is repeated, until either:\n",
    "1. a subquery is shown to be **satisfiable**\n",
    "2. or **all** the generated sub-queries are **unsatisfiable**.\n",
    "\n",
    "Here is an illustration of the S&C algorithm execution with 4 parallel workers:\n",
    "![Execution of Split & Conquer algorithm](img/snc.png)"
   ]
  },
  {
   "cell_type": "markdown",
   "id": "sunset-detail",
   "metadata": {},
   "source": [
    "### How to split the query?\n",
    "Queries can be split in various way - the two that have shown the most success are:\n",
    "\n",
    "1. **input range splitting** for networks with few inputs and \n",
    "2. **early ReLU phase splitting** for perception networks.\n",
    "\n",
    "Both approaches still require to choose which particular input or ReLU to split on. Marabou implements several heuristics for this choice. The crucial property for parallelization is that the resulting queries are of similar difficulty, which in terms of search space means that the splits are *balanced*. The metric to estimate balance we called **polarity** and is the default choice for S&C.\n",
    "\n",
    "A crucial point is that the above splitting strategies generate queries whose disjucntion is equivalent to the original query. This is essential for completeness of the overall algorithm and trustworthiness of reported results."
   ]
  },
  {
   "cell_type": "markdown",
   "id": "further-projection",
   "metadata": {},
   "source": [
    "## Getting a feel for S&C parameters\n",
    "\n",
    "In this section we will run a series of examples to show how different parameter values affect execution."
   ]
  },
  {
   "cell_type": "markdown",
   "id": "hungarian-arrow",
   "metadata": {},
   "source": [
    "### First, let's run a sequential problem"
   ]
  },
  {
   "cell_type": "code",
   "execution_count": 3,
   "id": "substantial-saver",
   "metadata": {},
   "outputs": [],
   "source": [
    "import sys\n",
    "\n",
    "# Path to Marabou folder if you did not export it\n",
    "# sys.path.append('/PATH/TO/Marabou')\n",
    "sys.path.append('/home/aleks/git/NNVMarabou')\n",
    "\n",
    "from maraboupy import Marabou"
   ]
  },
  {
   "cell_type": "code",
   "execution_count": 20,
   "id": "substantial-result",
   "metadata": {},
   "outputs": [],
   "source": [
    "# Choose an input file that takes about 30seconds to solve \n",
    "# Network files are sorted in increasing order of difficulty\n",
    "#nnetFile = \"nnet/acasxu/ACASXU_experimental_v2a_2_6.nnet\"\n",
    "#nnetFile = \"nnet/acasxu/ACASXU_experimental_v2a_2_5.nnet\"\n",
    "nnetFile = \"nnet/acasxu/ACASXU_experimental_v2a_5_2.nnet\"\n",
    "\n",
    "# Load the network from NNet file\n",
    "net = Marabou.read_nnet(nnetFile)\n",
    "\n",
    "# Encode property 3 - see properties/acas_property3.txt\n",
    "lower_bounds = [-0.3035311561, -0.0095492966, 0.4933803236, 0.3,  0.3]\n",
    "upper_bounds = [ -0.2985528119, 0.0095492966, 0.5, 0.5, 0.5]\n",
    "\n",
    "for idx in range(len(net.inputVars[0])):\n",
    "    net.setLowerBound(net.inputVars[0][idx], lower_bounds[idx])\n",
    "    net.setUpperBound(net.inputVars[0][idx], upper_bounds[idx])\n",
    "\n",
    "net.addInequality(net.outputVars[0], [+1.0,-1.0, 0.0, 0.0, 0.0], 0.0)\n",
    "net.addInequality(net.outputVars[0], [+1.0, 0.0,-1.0, 0.0, 0.0], 0.0)\n",
    "net.addInequality(net.outputVars[0], [+1.0, 0.0, 0.0,-1.0, 0.0], 0.0)\n",
    "net.addInequality(net.outputVars[0], [+1.0, 0.0, 0.0, 0.0,-1.0], 0.0)\n"
   ]
  },
  {
   "cell_type": "code",
   "execution_count": 17,
   "id": "featured-nursing",
   "metadata": {},
   "outputs": [
    {
     "name": "stdout",
     "output_type": "stream",
     "text": [
      "unsat\n",
      "Solving time: 824ms\n",
      "CPU times: user 918 ms, sys: 0 ns, total: 918 ms\n",
      "Wall time: 917 ms\n"
     ]
    }
   ],
   "source": [
    "%%time\n",
    "defaultOpts = Marabou.createOptions()\n",
    "vals1, stats1 = net.solve(options=defaultOpts)"
   ]
  },
  {
   "cell_type": "code",
   "execution_count": 18,
   "id": "ordered-liquid",
   "metadata": {},
   "outputs": [
    {
     "name": "stdout",
     "output_type": "stream",
     "text": [
      "unsat\n",
      "CPU times: user 1.2 s, sys: 0 ns, total: 1.2 s\n",
      "Wall time: 1.27 s\n"
     ]
    }
   ],
   "source": [
    "%%time\n",
    "sequentialSnC = Marabou.createOptions(snc=True)\n",
    "vals1, stats1 = net.solve(options=sequentialSnC)"
   ]
  },
  {
   "cell_type": "code",
   "execution_count": 21,
   "id": "round-ridge",
   "metadata": {},
   "outputs": [
    {
     "name": "stdout",
     "output_type": "stream",
     "text": [
      "unsat\n",
      "CPU times: user 17.3 s, sys: 71.4 ms, total: 17.4 s\n",
      "Wall time: 10.6 s\n"
     ]
    }
   ],
   "source": [
    "%%time\n",
    "SnC4workers = Marabou.createOptions(snc=True,numWorkers=4)\n",
    "vals1, stats1 = net.solve(options=SnC4workers)"
   ]
  },
  {
   "cell_type": "code",
   "execution_count": 26,
   "id": "allied-bridge",
   "metadata": {},
   "outputs": [
    {
     "name": "stdout",
     "output_type": "stream",
     "text": [
      "unsat\n",
      "CPU times: user 17.4 s, sys: 31.8 ms, total: 17.4 s\n",
      "Wall time: 10.6 s\n"
     ]
    }
   ],
   "source": [
    "%%time\n",
    "SnC4workers = Marabou.createOptions( snc=True,\n",
    "                                     numWorkers=4,\n",
    "                                     onlineDivides=2)\n",
    "vals1, stats1 = net.solve(options=SnC4workers)"
   ]
  },
  {
   "cell_type": "code",
   "execution_count": 27,
   "id": "given-witness",
   "metadata": {},
   "outputs": [
    {
     "name": "stdout",
     "output_type": "stream",
     "text": [
      "unsat\n",
      "CPU times: user 11.1 s, sys: 11.9 ms, total: 11.1 s\n",
      "Wall time: 4.54 s\n"
     ]
    }
   ],
   "source": [
    "%%time\n",
    "SnC4workers = Marabou.createOptions( snc=True,\n",
    "                                     numWorkers=4,\n",
    "                                     onlineDivides=2,\n",
    "                                     initialDivides=2)\n",
    "vals1, stats1 = net.solve(options=SnC4workers)"
   ]
  },
  {
   "cell_type": "code",
   "execution_count": 28,
   "id": "relevant-condition",
   "metadata": {},
   "outputs": [
    {
     "name": "stdout",
     "output_type": "stream",
     "text": [
      "unsat\n",
      "CPU times: user 13 s, sys: 12 ms, total: 13 s\n",
      "Wall time: 5.4 s\n"
     ]
    }
   ],
   "source": [
    "%%time\n",
    "SnC4workers = Marabou.createOptions( snc=True,\n",
    "                                     numWorkers=4,\n",
    "                                     onlineDivides=2,\n",
    "                                     initialDivides=2,\n",
    "                                     initialTimeout=3)\n",
    "vals1, stats1 = net.solve(options=SnC4workers)"
   ]
  },
  {
   "cell_type": "code",
   "execution_count": 29,
   "id": "decimal-softball",
   "metadata": {},
   "outputs": [
    {
     "name": "stdout",
     "output_type": "stream",
     "text": [
      "unsat\n",
      "CPU times: user 11.9 s, sys: 11.9 ms, total: 11.9 s\n",
      "Wall time: 3.79 s\n"
     ]
    }
   ],
   "source": [
    "%%time\n",
    "SnC4workers = Marabou.createOptions( snc=True,\n",
    "                                     numWorkers=4,\n",
    "                                     onlineDivides=2,\n",
    "                                     initialDivides=2,\n",
    "                                     initialTimeout=1)\n",
    "vals1, stats1 = net.solve(options=SnC4workers)"
   ]
  },
  {
   "cell_type": "code",
   "execution_count": 30,
   "id": "successful-publicity",
   "metadata": {},
   "outputs": [
    {
     "name": "stdout",
     "output_type": "stream",
     "text": [
      "unsat\n",
      "CPU times: user 11.9 s, sys: 7.85 ms, total: 11.9 s\n",
      "Wall time: 3.81 s\n"
     ]
    }
   ],
   "source": [
    "%%time\n",
    "SnC4workers = Marabou.createOptions( snc=True,\n",
    "                                     numWorkers=4,\n",
    "                                     onlineDivides=2,\n",
    "                                     initialDivides=2,\n",
    "                                     initialTimeout=1,\n",
    "                                     timeoutFactor=3)\n",
    "vals1, stats1 = net.solve(options=SnC4workers)"
   ]
  },
  {
   "cell_type": "code",
   "execution_count": null,
   "id": "insured-lottery",
   "metadata": {},
   "outputs": [],
   "source": []
  }
 ],
 "metadata": {
  "kernelspec": {
   "display_name": "Python 3",
   "language": "python",
   "name": "python3"
  },
  "language_info": {
   "codemirror_mode": {
    "name": "ipython",
    "version": 3
   },
   "file_extension": ".py",
   "mimetype": "text/x-python",
   "name": "python",
   "nbconvert_exporter": "python",
   "pygments_lexer": "ipython3",
   "version": "3.6.9"
  }
 },
 "nbformat": 4,
 "nbformat_minor": 5
}
